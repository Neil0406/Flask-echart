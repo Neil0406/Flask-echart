{
 "cells": [
  {
   "cell_type": "code",
   "execution_count": 397,
   "metadata": {},
   "outputs": [],
   "source": [
    "#url = https://opendata.cwb.gov.tw/fileapi/v1/opendataapi/{dataid}?Authorization={apikey}&format={format}                \n",
    "#{dataid} 為各資料集代碼 (參照：資料清單)  ex.F-A0012-001              \n",
    "#{apikey} 為會員帳號對應之授權碼  ex.CWB-1234ABCD-78EF-GH90-12XY-IJKL12345678\n",
    "#{format} 為資料格式，請參照各資料集頁面確認可下載之檔案格式  ex.XML、CAP、JSON、ZIP、KMZ、GRIB2\n",
    "#範例：https://opendata.cwb.gov.tw/fileapi/v1/opendataapi/F-C0032-001?Authorization=CWB-EB4703E5-E2F4-4CA1-8C04-FB94D6B2F6B8&format=json              \n",
    "#並請加入快取功能，如上述所示。\n",
    "#API清單  https://opendata.cwb.gov.tw/dist/opendata-swagger.html\n",
    "\n",
    "import requests\n",
    "import json\n",
    "\n",
    "url = 'https://opendata.cwb.gov.tw/fileapi/v1/opendataapi/F-C0032-001?Authorization=CWB-EB4703E5-E2F4-4CA1-8C04-FB94D6B2F6B8&format=json'\n",
    "\n",
    "res = requests.get(url)\n",
    "data = json.loads(res.text)\n",
    "\n",
    "final_list = data[\"cwbopendata\"][\"dataset\"][\"location\"]\n",
    "\n",
    "taipei = []\n",
    "new_taipei = []\n",
    "\n",
    "for i in final_list:\n",
    "    if i['locationName'] == '臺北市':\n",
    "        data = i\n",
    "        city = data['locationName']\n",
    "        for j in range(0,3):\n",
    "            dic = {}\n",
    "            r = []\n",
    "            for i in data['weatherElement']:\n",
    "                r.append(i['time'][j])            \n",
    "            l = []\n",
    "            for i in r:\n",
    "                l.append(i['parameter']['parameterName'])\n",
    "            l.append(f\"{i['startTime'][11:16]}\"'-'f\"{i['endTime'][11:16]}\")\n",
    "            dic[city] = l\n",
    "            taipei.append(dic)\n",
    "#     elif i['locationName'] == '新北市':\n",
    "#         data = i\n",
    "#         city = data['locationName']\n",
    "#         for j in range(0,3):\n",
    "#             dic = {}\n",
    "#             r = []\n",
    "#             for i in data['weatherElement']:\n",
    "#                 r.append(i['time'][j])            \n",
    "#             l = []\n",
    "#             for i in r:\n",
    "#                 l.append(i['parameter']['parameterName'])\n",
    "#             l.append(f\"{i['startTime'][11:16]}\"'-'f\"{i['endTime'][11:16]}\")\n",
    "#             dic[city] = l\n",
    "#             new_taipei.append(dic)\n",
    "#     else:\n",
    "#         continue\n"
   ]
  },
  {
   "cell_type": "code",
   "execution_count": 398,
   "metadata": {
    "scrolled": true
   },
   "outputs": [
    {
     "data": {
      "text/plain": [
       "[{'臺北市': ['晴時多雲', '29', '27', '舒適至悶熱', '0', '00:00-06:00']},\n",
       " {'臺北市': ['晴時多雲', '37', '27', '舒適至悶熱', '20', '06:00-18:00']},\n",
       " {'臺北市': ['多雲時晴', '33', '27', '舒適至悶熱', '0', '18:00-06:00']}]"
      ]
     },
     "execution_count": 398,
     "metadata": {},
     "output_type": "execute_result"
    }
   ],
   "source": [
    "taipei"
   ]
  },
  {
   "cell_type": "code",
   "execution_count": 30,
   "metadata": {
    "scrolled": false,
    "tags": []
   },
   "outputs": [],
   "source": [
    "from bs4 import BeautifulSoup as bs\n",
    "import requests\n",
    "import pandas as pd\n",
    "import datetime\n",
    "import tkinter as tk\n",
    "res = requests.get('https://rate.bot.com.tw/xrt?Lang=zh-TW')\n",
    "soup = bs(res.text,'lxml')\n",
    "\n",
    "\n",
    "update_time = []\n",
    "average = []\n",
    "currency = []   #幣別\n",
    "spread = []\n",
    "final_list = []\n",
    "\n",
    "\n",
    "data = soup.select('.print_show')\n",
    "r = []\n",
    "for i in data:\n",
    "    r.append(i.text.split())\n",
    "for i in r:\n",
    "    dic = {}\n",
    "    dic['幣別'] = i[0]\n",
    "    final_list.append(dic)\n",
    "#現買\n",
    "purchase = []\n",
    "data = soup.select('#ie11andabove > div > table > tbody > tr > td:nth-child(2)')\n",
    "count = 0\n",
    "for i in data:\n",
    "    final_list[count]['現金買價'] = i.text\n",
    "    count += 1\n",
    "#現賣\n",
    "selling = []\n",
    "data = soup.select('#ie11andabove > div > table > tbody > tr > td:nth-child(3)')\n",
    "count = 0\n",
    "for i in data:\n",
    "    final_list[count]['現金賣價'] = i.text\n",
    "    count += 1\n",
    "#即期買\n",
    "purchase1 = []\n",
    "data = soup.select('#ie11andabove > div > table > tbody > tr > td:nth-child(4)')\n",
    "count = 0\n",
    "for i in data:\n",
    "    final_list[count]['即期買價'] = i.text\n",
    "    count += 1\n",
    "    \n",
    "#即期賣\n",
    "selling1 = []\n",
    "data = soup.select('#ie11andabove > div > table > tbody > tr > td:nth-child(5)')\n",
    "count = 0\n",
    "for i in data:\n",
    "    final_list[count]['即期賣價'] = i.text\n",
    "    count += 1\n",
    "\n",
    "\n"
   ]
  },
  {
   "cell_type": "code",
   "execution_count": null,
   "metadata": {
    "scrolled": false
   },
   "outputs": [],
   "source": []
  },
  {
   "cell_type": "code",
   "execution_count": 1,
   "metadata": {
    "scrolled": false
   },
   "outputs": [],
   "source": [
    "#newsapi\n",
    "\n",
    "from newsapi import NewsApiClient\n",
    "import json\n",
    "newsapi = NewsApiClient(api_key='01b449f1ec3c4dffbc936f65e55a0900')\n",
    "\n",
    "all_articles = newsapi.get_everything(q='國際 AND NOT 外遇',\n",
    "                                      domains='ettoday.net,Technews.tw,Setn.com,udn.com,Ltn.com.tw',\n",
    "#                                       from_param=2020-05-01',\n",
    "#                                       to='2020-06-01',\n",
    "                                      language='zh',\n",
    "                                      sort_by='publishedAt', #由新到舊\n",
    "                                      page_size = 30,\n",
    "                                      page = 1\n",
    "                                      ) #篇幅為100\n",
    "fn = 'Exam2-2.json'\n",
    "with open(fn,'w',encoding ='utf8') as file:\n",
    "    json.dump(all_articles,file,ensure_ascii=False)\n",
    "\n",
    "\n",
    "# print(all_articles['articles'])\n"
   ]
  },
  {
   "cell_type": "code",
   "execution_count": 73,
   "metadata": {
    "tags": []
   },
   "outputs": [],
   "source": [
    "    \n",
    "import pymysql\n",
    "import pandas as pd\n",
    "\n",
    "MYSQL_HOST = 'localhost'\n",
    "MYSQL_DB = 'neildb'\n",
    "MYSQL_USER = 'root'\n",
    "MYSQL_PASS = 'root'\n",
    "\n",
    "def connect_mysql():  #連線資料庫\n",
    "    global connect, cursor\n",
    "    connect = pymysql.connect(host = MYSQL_HOST, db = MYSQL_DB, user = MYSQL_USER, password = MYSQL_PASS,\n",
    "            charset = 'utf8', use_unicode = True)\n",
    "    cursor = connect.cursor()\n",
    "\n",
    "\n",
    "connect_mysql()   #呼叫連線資料庫函式\n",
    "df = pd.read_sql('SELECT * FROM hiskio', con = connect) #使用connect指定的Mysql獲取資料\n",
    "data = df.to_dict('recode')\n",
    "\n",
    "for i in data:\n",
    "    if i['price'] != '免費' and i['price'] != 'NaN' and i['price'] != None :\n",
    "        i['price'] = int(i['price'].replace('NT$',''))\n",
    "    elif i['price'] == None:\n",
    "        i['price'] = 0\n",
    "    else :\n",
    "        i['price'] = 0\n",
    "\n",
    "d = {}\n",
    "for i in data:\n",
    "    d[i['category']] = ''\n",
    "\n",
    "title_num = []   #每種類課程總和 [45, 74, 10, 12, 45, 5, 25]\n",
    "for j in d:\n",
    "    t = []\n",
    "    for i in data:\n",
    "        count = 0\n",
    "        if i['category'] == j:\n",
    "            count += 1\n",
    "            t.append(count)\n",
    "    title_num.append(sum(t))\n",
    "            \n",
    "title = []     #課程分類              ['網站前端', '網站後端', '物聯網 IOT', '手機應用', '數據分析', '遊戲開發', '微軟應用']\n",
    "price = []     #每個種類課程的\"價格\"總和 [109686, 281049, 21090, 35899, 211530, 15860, 151690]\n",
    "free = []      #免費課程的數量          [7, 13, 4, 1, 11, 0, 0]\n",
    "\n",
    "for k in d :\n",
    "    title.append(k)\n",
    "    p = []\n",
    "    f = []\n",
    "    count = 0\n",
    "for i in data:\n",
    "    if i['category'] == k and i['price'] != 0:\n",
    "        p.append(i['price'])\n",
    "    if i['category'] == k and i['price'] == 0:\n",
    "        count =+ 1\n",
    "        f.append(count)\n",
    "price.append(sum(p))\n",
    "free.append(sum(f))\n",
    "#---------------------------------------------------------------------\n",
    "l = []\n",
    "\n",
    "level = []\n",
    "\n",
    "for i in data:\n",
    "    if i['level'] not in l:\n",
    "        l.append(i['level'])\n",
    "    d = {}\n",
    "    d[i['category']] = i['level']\n",
    "    level.append(d)\n",
    "\n",
    "dic1 = {}\n",
    "for i in title:\n",
    "    dic1[i] = []\n",
    "\n",
    "for i in l:\n",
    "    r = []\n",
    "    d = {}\n",
    "    count = 0\n",
    "    for j in level[:10]:\n",
    "        if dic1 in \n",
    "\n",
    "    \n",
    "\n",
    "#---------------------------------------------------------------------\n",
    "\n",
    "\n"
   ]
  },
  {
   "cell_type": "code",
   "execution_count": 74,
   "metadata": {
    "tags": []
   },
   "outputs": [
    {
     "output_type": "stream",
     "name": "stdout",
     "text": "{'網站前端': [], '網站後端': [], '物聯網 IOT': [], '手機應用': [], '數據分析': [], '遊戲開發': [], '微軟應用': []}\n['初學', '中階', '通用', '中高階', None]\n"
    },
    {
     "output_type": "execute_result",
     "data": {
      "text/plain": "[{'網站前端': '初學'},\n {'網站前端': '初學'},\n {'網站前端': '中階'},\n {'網站前端': '中階'},\n {'網站前端': '初學'},\n {'網站前端': '初學'},\n {'網站前端': '中階'},\n {'網站前端': '通用'},\n {'網站前端': '初學'},\n {'網站前端': '初學'},\n {'網站前端': '中階'},\n {'網站前端': '初學'},\n {'網站前端': '初學'},\n {'網站前端': '初學'},\n {'網站前端': '通用'},\n {'網站前端': '中階'},\n {'網站前端': '初學'},\n {'網站前端': '中高階'},\n {'網站前端': '通用'},\n {'網站前端': '中階'},\n {'網站前端': '中階'},\n {'網站前端': '通用'},\n {'網站前端': '初學'},\n {'網站前端': '初學'},\n {'網站前端': '初學'},\n {'網站前端': '初學'},\n {'網站前端': '初學'},\n {'網站前端': '通用'},\n {'網站前端': '初學'},\n {'網站前端': '初學'},\n {'網站前端': '初學'},\n {'網站前端': '初學'},\n {'網站前端': '初學'},\n {'網站前端': '中高階'},\n {'網站前端': '中階'},\n {'網站前端': '初學'},\n {'網站前端': '初學'},\n {'網站前端': '初學'},\n {'網站前端': '中階'},\n {'網站前端': '中高階'},\n {'網站前端': '初學'},\n {'網站前端': '初學'},\n {'網站前端': '中階'},\n {'網站前端': '初學'},\n {'網站前端': '初學'},\n {'網站前端': '通用'},\n {'網站後端': '初學'},\n {'網站後端': '初學'},\n {'網站後端': '初學'},\n {'網站後端': '中高階'},\n {'網站後端': '中階'},\n {'網站後端': '中階'},\n {'網站後端': '中階'},\n {'網站後端': '初學'},\n {'網站後端': '中階'},\n {'網站後端': '初學'},\n {'網站後端': '中階'},\n {'網站後端': '中階'},\n {'網站後端': '中階'},\n {'網站後端': '中階'},\n {'網站後端': '初學'},\n {'網站後端': '初學'},\n {'網站後端': '初學'},\n {'網站後端': '初學'},\n {'網站後端': '中階'},\n {'網站後端': '初學'},\n {'網站後端': '通用'},\n {'網站後端': '初學'},\n {'網站後端': '中階'},\n {'網站後端': '初學'},\n {'網站後端': '中高階'},\n {'網站後端': '中高階'},\n {'網站後端': '中高階'},\n {'網站後端': '中高階'},\n {'網站後端': '通用'},\n {'網站後端': '中階'},\n {'網站後端': '初學'},\n {'網站後端': '初學'},\n {'網站後端': '初學'},\n {'網站後端': '初學'},\n {'網站後端': '中階'},\n {'網站後端': '初學'},\n {'網站後端': '初學'},\n {'網站後端': '通用'},\n {'網站後端': '中階'},\n {'網站後端': '中階'},\n {'網站後端': '中階'},\n {'網站後端': '中階'},\n {'網站後端': '中階'},\n {'網站後端': '初學'},\n {'網站後端': '初學'},\n {'網站後端': '中高階'},\n {'網站後端': '通用'},\n {'網站後端': '中高階'},\n {'網站後端': '初學'},\n {'網站後端': '初學'},\n {'網站後端': '初學'},\n {'網站後端': '中階'},\n {'網站後端': '初學'},\n {'網站後端': '初學'},\n {'網站後端': '中高階'},\n {'網站後端': '中階'},\n {'網站後端': '初學'},\n {'網站後端': '初學'},\n {'網站後端': '中階'},\n {'網站後端': '通用'},\n {'網站後端': '通用'},\n {'網站後端': '初學'},\n {'網站後端': '通用'},\n {'網站後端': '初學'},\n {'網站後端': '初學'},\n {'網站後端': '初學'},\n {'網站後端': '中階'},\n {'網站後端': '中高階'},\n {'網站後端': '通用'},\n {'網站後端': '初學'},\n {'網站後端': '初學'},\n {'網站後端': '中階'},\n {'網站後端': '初學'},\n {'網站後端': '初學'},\n {'網站後端': '初學'},\n {'物聯網 IOT': '初學'},\n {'物聯網 IOT': '初學'},\n {'物聯網 IOT': '初學'},\n {'物聯網 IOT': '初學'},\n {'物聯網 IOT': '通用'},\n {'物聯網 IOT': '中高階'},\n {'物聯網 IOT': '中階'},\n {'物聯網 IOT': '初學'},\n {'物聯網 IOT': '初學'},\n {'物聯網 IOT': '通用'},\n {'物聯網 IOT': '初學'},\n {'手機應用': '中階'},\n {'手機應用': '初學'},\n {'手機應用': '初學'},\n {'手機應用': '中階'},\n {'手機應用': '中階'},\n {'手機應用': '初學'},\n {'手機應用': '初學'},\n {'手機應用': '初學'},\n {'手機應用': '初學'},\n {'手機應用': '中階'},\n {'手機應用': '初學'},\n {'手機應用': '初學'},\n {'數據分析': '中階'},\n {'數據分析': '通用'},\n {'數據分析': '中階'},\n {'數據分析': '初學'},\n {'數據分析': '初學'},\n {'數據分析': '中階'},\n {'數據分析': '中階'},\n {'數據分析': '中階'},\n {'數據分析': '初學'},\n {'數據分析': '初學'},\n {'數據分析': '中階'},\n {'數據分析': '中高階'},\n {'數據分析': '初學'},\n {'數據分析': '中階'},\n {'數據分析': '初學'},\n {'數據分析': '中階'},\n {'數據分析': '初學'},\n {'數據分析': '中高階'},\n {'數據分析': '中高階'},\n {'數據分析': '初學'},\n {'數據分析': '中階'},\n {'數據分析': '通用'},\n {'數據分析': '中階'},\n {'數據分析': '中階'},\n {'數據分析': '初學'},\n {'數據分析': '初學'},\n {'數據分析': '初學'},\n {'數據分析': '通用'},\n {'數據分析': '初學'},\n {'數據分析': '通用'},\n {'數據分析': '初學'},\n {'數據分析': '初學'},\n {'數據分析': '中階'},\n {'數據分析': '中高階'},\n {'數據分析': '中階'},\n {'數據分析': '初學'},\n {'數據分析': '中階'},\n {'數據分析': '通用'},\n {'數據分析': '初學'},\n {'數據分析': '初學'},\n {'數據分析': '初學'},\n {'數據分析': None},\n {'數據分析': '通用'},\n {'數據分析': '初學'},\n {'數據分析': '通用'},\n {'遊戲開發': '初學'},\n {'遊戲開發': '初學'},\n {'遊戲開發': '中階'},\n {'遊戲開發': '初學'},\n {'遊戲開發': '初學'},\n {'微軟應用': '中高階'},\n {'微軟應用': '初學'},\n {'微軟應用': '中階'},\n {'微軟應用': '中階'},\n {'微軟應用': '初學'},\n {'微軟應用': '初學'},\n {'微軟應用': '初學'},\n {'微軟應用': '初學'},\n {'微軟應用': '中高階'},\n {'微軟應用': '中高階'},\n {'微軟應用': '中高階'},\n {'微軟應用': '中高階'},\n {'微軟應用': '中階'},\n {'微軟應用': '初學'},\n {'微軟應用': '初學'},\n {'微軟應用': '初學'},\n {'微軟應用': '中階'},\n {'微軟應用': '中階'},\n {'微軟應用': '中階'},\n {'微軟應用': '中階'},\n {'微軟應用': '初學'},\n {'微軟應用': '中高階'},\n {'微軟應用': '初學'},\n {'微軟應用': '初學'},\n {'微軟應用': '中階'}]"
     },
     "metadata": {},
     "execution_count": 74
    }
   ],
   "source": [
    "print(dic1)\n",
    "print(l)\n",
    "level\n"
   ]
  },
  {
   "cell_type": "code",
   "execution_count": null,
   "metadata": {},
   "outputs": [],
   "source": []
  }
 ],
 "metadata": {
  "kernelspec": {
   "display_name": "Python 3",
   "language": "python",
   "name": "python3"
  },
  "language_info": {
   "codemirror_mode": {
    "name": "ipython",
    "version": 3
   },
   "file_extension": ".py",
   "mimetype": "text/x-python",
   "name": "python",
   "nbconvert_exporter": "python",
   "pygments_lexer": "ipython3",
   "version": "3.7.6"
  }
 },
 "nbformat": 4,
 "nbformat_minor": 4
}